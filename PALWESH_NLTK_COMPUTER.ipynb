{
 "cells": [
  {
   "cell_type": "code",
   "execution_count": null,
   "metadata": {},
   "outputs": [],
   "source": [
    "#palwesh sahu a\n",
    "\n",
    "import nltk\n",
    "import summarizer\n",
    "from nltk.tokenize import sent_tokenize, word_tokenize\n",
    "from nltk.corpus import stopwords\n",
    "from summarizer import summarize\n"
   ]
  },
  {
   "cell_type": "code",
   "execution_count": 2,
   "metadata": {},
   "outputs": [],
   "source": [
    "#text1 = \"indian bjp congress aap party democracy mla minister prime opposition cm governance cabinet candidates political government elecation cheif affers president end\"\n",
    "#text1 = \"physics Chemistry college school science study studying coaching Maths\"\n",
    "text1 = \"computer laptop repairs shop motherboard mouse screen monitor keyboard\"\n",
    "text1=text1.lower()"
   ]
  },
  {
   "cell_type": "code",
   "execution_count": 3,
   "metadata": {},
   "outputs": [
    {
     "name": "stdout",
     "output_type": "stream",
     "text": [
      " :I have a Toshiba satellite c50 laptop. Last year suddenly volume up function key (f10) went not working. Then day by day more keys went not working. And the touchpad was not working too. Everytime I turned the laptop on touchpad wasn't working, but when I press the Fn key it started to work. So I replaced the old keyboard with a new one. Then all went well again until last week. It started again. Volume up key is not working and the touchpad was not working properly too. So I had the keyboard replaced again but this time it didn't work well much longer. Yesterday volume up key wasn't working and today number 6 is not working too. What is wrong with my laptop. What should I do. I would be very glad if someone could help me\n",
      "['last year suddenly volume up function key (f10) went not working.', 'then day by day more keys went not working.', \"everytime i turned the laptop on touchpad wasn't working, but when i press the fn key it started to work.\"]\n",
      "__________________________________________________________________________________\n",
      "\n",
      " help related\n",
      "__________________________________________________________________________________\n",
      "laptop\n",
      "laptop\n",
      "keyboard\n",
      "______________________\n",
      "Computers\n",
      "______________________\n"
     ]
    }
   ],
   "source": [
    "\n",
    "keyword=(word_tokenize(text1))\n",
    "storiesall = input(' :')\n",
    "storiesall=storiesall.lower()\n",
    "data = (word_tokenize(storiesall))\n",
    "\n",
    "#stop_words\n",
    "stop_words = set(stopwords.words('english'))\n",
    "word_tokens = word_tokenize(storiesall)\n",
    "stories = [w for w in word_tokens if not w in stop_words]\n",
    "stories = []\n",
    "for w in word_tokens:\n",
    "    if w not in stop_words:\n",
    "        stories.append(w)\n",
    "\n",
    "title=\"your message\"\n",
    "print(summarize(title, storiesall))\n",
    "#print(title)\n",
    "#aa = summarize(title, storiesall)\n",
    "#print(aa)\n",
    "#identfying and keyword matching\n",
    "keylen=len(keyword)\n",
    "datalen=len(data)\n",
    "print(\"__________________________________________________________________________________\")\n",
    "print(\"\\n help related\")\n",
    "print(\"__________________________________________________________________________________\")\n",
    "\n",
    "b=0\n",
    "for i in range(0,keylen):\n",
    "\ta=0\t\n",
    "\tfor j in range(0,datalen):\n",
    "\t\tif(keyword[i]==data[j]):\n",
    "\t\t\ta=a+1\n",
    "\t\t\tif(a>1):\n",
    "\t\t\t\tprint(data[j])\n",
    "\t\t\t\tb=1\n",
    "if(b==1):\n",
    "\tprint(\"______________________\\nComputers\\n______________________\")\n",
    "else:\n",
    "\tprint(\"other \")"
   ]
  },
  {
   "cell_type": "code",
   "execution_count": null,
   "metadata": {},
   "outputs": [],
   "source": []
  },
  {
   "cell_type": "code",
   "execution_count": null,
   "metadata": {},
   "outputs": [],
   "source": []
  },
  {
   "cell_type": "code",
   "execution_count": null,
   "metadata": {},
   "outputs": [],
   "source": []
  },
  {
   "cell_type": "code",
   "execution_count": null,
   "metadata": {},
   "outputs": [],
   "source": []
  },
  {
   "cell_type": "code",
   "execution_count": null,
   "metadata": {},
   "outputs": [],
   "source": []
  },
  {
   "cell_type": "code",
   "execution_count": null,
   "metadata": {},
   "outputs": [],
   "source": [
    "http://www.tomsguide.com/answers/id-3698976/laptop-keyboard-working-properly-keys-working.html"
   ]
  }
 ],
 "metadata": {
  "kernelspec": {
   "display_name": "Python 3",
   "language": "python",
   "name": "python3"
  },
  "language_info": {
   "codemirror_mode": {
    "name": "ipython",
    "version": 3
   },
   "file_extension": ".py",
   "mimetype": "text/x-python",
   "name": "python",
   "nbconvert_exporter": "python",
   "pygments_lexer": "ipython3",
   "version": "3.6.4"
  }
 },
 "nbformat": 4,
 "nbformat_minor": 2
}
